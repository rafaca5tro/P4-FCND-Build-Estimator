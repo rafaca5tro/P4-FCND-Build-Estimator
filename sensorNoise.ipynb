{
 "cells": [
  {
   "cell_type": "markdown",
   "metadata": {},
   "source": [
    "# **Sensor Noise**"
   ]
  },
  {
   "cell_type": "code",
   "execution_count": 1,
   "metadata": {},
   "outputs": [],
   "source": [
    "import numpy as np"
   ]
  },
  {
   "cell_type": "code",
   "execution_count": 4,
   "metadata": {},
   "outputs": [],
   "source": [
    "gps_x = np.loadtxt('config/log/Graph1.txt',delimiter=',',dtype='Float64',skiprows=1)[:,1]\n",
    "acc_x = np.loadtxt('config/log/Graph2.txt',delimiter=',',dtype='Float64',skiprows=1)[:,1]"
   ]
  },
  {
   "cell_type": "code",
   "execution_count": 5,
   "metadata": {},
   "outputs": [
    {
     "name": "stdout",
     "output_type": "stream",
     "text": [
      "GPS X Std: 0.7090452121075463\n",
      "Accelerometer X Std: 0.5053050401785889\n"
     ]
    }
   ],
   "source": [
    "gps_x_std = np.std(gps_x)\n",
    "print(f'GPS X Std: {gps_x_std}')\n",
    "acc_x_std = np.std(acc_x)\n",
    "print(f'Accelerometer X Std: {acc_x_std}')"
   ]
  },
  {
   "cell_type": "code",
   "execution_count": null,
   "metadata": {},
   "outputs": [],
   "source": []
  }
 ],
 "metadata": {
  "kernelspec": {
   "display_name": "Python 3",
   "language": "python",
   "name": "python3"
  },
  "language_info": {
   "codemirror_mode": {
    "name": "ipython",
    "version": 3
   },
   "file_extension": ".py",
   "mimetype": "text/x-python",
   "name": "python",
   "nbconvert_exporter": "python",
   "pygments_lexer": "ipython3",
   "version": "3.8.5"
  }
 },
 "nbformat": 4,
 "nbformat_minor": 4
}
